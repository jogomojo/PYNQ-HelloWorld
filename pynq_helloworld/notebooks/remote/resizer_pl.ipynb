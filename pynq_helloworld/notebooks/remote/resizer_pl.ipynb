{
 "cells": [
  {
   "cell_type": "markdown",
   "metadata": {},
   "source": [
    "# Resizer in Programmable Logic (PL)\n",
    "\n",
    "This reference design illustrates how to run a resizer IP on the **Programmable Logic (PL)** using Jupyter Notebooks and Python.\n",
    "\n",
    "<img src=\"./images/resizenb.png\" width=\"800\" height=\"650\"/>\n",
    "\n",
    "In this example, we will use the **Bilinear** interpolation.\n",
    "\n",
    "> The resize IP transforms the source image to the size of the destination image. Different types of interpolation techniques can be used in resize function,\n",
    "namely: Nearest-neighbor, Bilinear, and Area interpolation. The type of interpolation can be passed as a parameter to the Python API.    \n",
    "> Reference: https://xilinx.github.io/Vitis_Libraries/vision/2021.1/api-reference.html#resolution-conversion\n",
    "\n",
    "## Contents    \n",
    "  \n",
    "\n",
    "* [Image Resizing in Programmable Logic](#Image-Resizing-in-Programmable-Logic)\n",
    "* [Import libraries](#Import-libraries)\n",
    "* [Download the Resize IP bitstream](#Download-the-Resize-IP-bitstream)\n",
    "* [Create an Image object using PIL in SW](#Create-an-Image-object-using-PIL-in-SW)\n",
    "* [Display the image to be resized](#Display-the-image-to-be-resized)\n",
    "* [Resizing](#Resizing)\n",
    "* [Display resized image](#Display-resized-image)\n",
    "* [References](#References)   \n",
    "\n",
    "## Image Resizing in Programmable Logic\n",
    "\n",
    "\n",
    "<img src=\"./images/resize_bd.png\" width=\"800\" height=\"650\"/>\n",
    "\n",
    "## Setup Remote Environment Variable"
   ]
  },
  {
   "cell_type": "code",
   "execution_count": null,
   "metadata": {},
   "outputs": [],
   "source": [
    "import os\n",
    "os.environ['PYNQ_REMOTE_IP'] = \"192.168.0.114\""
   ]
  },
  {
   "cell_type": "markdown",
   "metadata": {},
   "source": [
    "## Import libraries"
   ]
  },
  {
   "cell_type": "code",
   "execution_count": null,
   "metadata": {},
   "outputs": [],
   "source": [
    "from PIL import Image\n",
    "import numpy as np\n",
    "import matplotlib.pyplot as plt\n",
    "%matplotlib inline\n",
    "from pynq import allocate, Overlay"
   ]
  },
  {
   "cell_type": "markdown",
   "metadata": {},
   "source": [
    "## Download the Resize IP bitstream\n",
    "\n",
    "After the bitstream has been downloaded, the PL will be populated with\n",
    "the resize IP, the DMA engine, and a few other components. The resize IP\n",
    "is configured to use bilinear interpolation."
   ]
  },
  {
   "cell_type": "code",
   "execution_count": null,
   "metadata": {},
   "outputs": [],
   "source": [
    "resize_design = Overlay(\"resizer.xsa\")"
   ]
  },
  {
   "cell_type": "markdown",
   "metadata": {},
   "source": [
    "Then create DMA and Resizer IP objects."
   ]
  },
  {
   "cell_type": "code",
   "execution_count": null,
   "metadata": {},
   "outputs": [],
   "source": [
    "dma = resize_design.axi_dma_0\n",
    "resizer = resize_design.resize_accel_0"
   ]
  },
  {
   "cell_type": "markdown",
   "metadata": {},
   "source": [
    "\n",
    "<img src=\"./images/resize_bit.png\" width=\"600\" height=\"450\"/>\n"
   ]
  },
  {
   "cell_type": "markdown",
   "metadata": {},
   "source": [
    "## Create an Image object using PIL in SW\n",
    "We will load image from the SD card and create a PIL Image object.\n",
    "\n",
    "Image By Aboubakrhadnine - <span class=\"int-own-work\" lang=\"en\">Own work</span>, <a href=\"https://creativecommons.org/licenses/by-sa/4.0\" title=\"Creative Commons Attribution-Share Alike 4.0\">CC BY-SA 4.0</a>, <a href=\"https://commons.wikimedia.org/w/index.php?curid=79587474\">Link</a>."
   ]
  },
  {
   "cell_type": "code",
   "execution_count": null,
   "metadata": {},
   "outputs": [],
   "source": [
    "image_path = \"images/sahara.jpg\"\n",
    "original_image = Image.open(image_path)"
   ]
  },
  {
   "cell_type": "markdown",
   "metadata": {},
   "source": [
    "<img src=\"images/sd2dram.png\" width=\"650\" height=\"550\"/>"
   ]
  },
  {
   "cell_type": "markdown",
   "metadata": {},
   "source": [
    "## Display the image to be resized\n",
    "\n",
    "Let's also check the original image size. It may take a while to render a \n",
    "large picture. For better visual effect, we double the size of the canvas.\n",
    "The following code only changes the display size, not the picture itself:\n",
    "\n",
    "```python\n",
    "canvas = plt.gcf()\n",
    "size = canvas.get_size_inches()\n",
    "canvas.set_size_inches(size*2)\n",
    "```"
   ]
  },
  {
   "cell_type": "code",
   "execution_count": null,
   "metadata": {},
   "outputs": [],
   "source": [
    "canvas = plt.gcf()\n",
    "size = canvas.get_size_inches()\n",
    "canvas.set_size_inches(size*2)\n",
    "\n",
    "old_width, old_height = original_image.size\n",
    "print(\"Image size: {}x{} pixels.\".format(old_width, old_height))\n",
    "plt.figure(figsize=(12, 10));\n",
    "_ = plt.imshow(original_image)"
   ]
  },
  {
   "cell_type": "markdown",
   "metadata": {},
   "source": [
    "## Resizing\n",
    " \n",
    "We can set resize dimensions.\n",
    "1. Downscale factor: 2.\n",
    "2. Size of input image is 3840x2160.\n",
    "3. Size of output image is 1920x1080."
   ]
  },
  {
   "cell_type": "code",
   "execution_count": null,
   "metadata": {},
   "outputs": [],
   "source": [
    "resize_factor = 2\n",
    "new_width = int(old_width/resize_factor)\n",
    "new_height = int(old_height/resize_factor)"
   ]
  },
  {
   "cell_type": "markdown",
   "metadata": {},
   "source": [
    "We now allocate memory to process data on PL.\n",
    "Data is provided as contiguous memory blocks.\n",
    "The size of the buffer depends on the size of the input or output data.\n",
    "The image dimensions extracted from the read image are used to allocate contiguous memory blocks.   \n",
    "We will call `allocate()` to perform the allocation."
   ]
  },
  {
   "cell_type": "code",
   "execution_count": null,
   "metadata": {},
   "outputs": [],
   "source": [
    "# in_buffer = allocate(shape=(old_height, old_width, 3), \n",
    "#                            dtype=np.uint8, cacheable=1)\n",
    "# out_buffer = allocate(shape=(new_height, new_width, 3), \n",
    "#                             dtype=np.uint8, cacheable=1)\n",
    "\n",
    "in_buffer = allocate(shape=(old_height, old_width, 3), \n",
    "                           dtype=np.uint8)\n",
    "out_buffer = allocate(shape=(new_height, new_width, 3), \n",
    "                            dtype=np.uint8)"
   ]
  },
  {
   "cell_type": "markdown",
   "metadata": {},
   "source": [
    "Documentation snippet for `allocate`:\n",
    "\n",
    "```python\n",
    "\"\"\"Allocate a PYNQ buffer\n",
    "\n",
    "This API mimics the numpy ndarray constructor with the following\n",
    "differences:\n",
    "\n",
    " * The default dtype is 32-bit unsigned int rather than float\n",
    " * A new ``target`` keyword parameter to determine where the\n",
    "   buffer should be allocated\n",
    "\n",
    "The target determines where the buffer gets allocated\n",
    "\n",
    " * If None then the currently active device is used\n",
    " * If a Device is specified then the main memory\n",
    "\n",
    "\"\"\"\n",
    "```\n",
    "\n",
    "Note that the original image has to be copied into the contiguous memory array (deep copy).\n",
    "\n",
    "<img src=\"./images/local2shared.png\" width=\"650\" height=\"550\"/>"
   ]
  },
  {
   "cell_type": "code",
   "execution_count": null,
   "metadata": {},
   "outputs": [],
   "source": [
    "in_buffer[:] = np.array(original_image)"
   ]
  },
  {
   "cell_type": "markdown",
   "metadata": {},
   "source": [
    "We can now run the resizer IP.\n",
    "We will push the data from input buffer through the pipeline to the output buffer.\n",
    "For ease-of-use, we will define a `run_kernel` function that will be called \n",
    "multiple times.\n",
    "\n",
    "<img src=\"./images/resize_accel.png\" width=\"650\" height=\"550\"/>"
   ]
  },
  {
   "cell_type": "raw",
   "metadata": {},
   "source": [
    "def run_kernel():\n",
    "    dma.sendchannel.transfer(in_buffer)\n",
    "    dma.recvchannel.transfer(out_buffer)    \n",
    "    resizer.write(0x00,0x81) # start\n",
    "    dma.sendchannel.wait()\n",
    "    dma.recvchannel.wait()"
   ]
  },
  {
   "cell_type": "markdown",
   "metadata": {},
   "source": [
    "We will also need to setup resizer and DMA IPs using MMIO interface \n",
    "before we stream image data to them.\n",
    "For example, we need to write dimensions data to MMIO registers of resizer.\n",
    "These register writings only have to be done once.\n",
    "\n",
    "| register offset | name     | configuration                          |\n",
    "|-----------------|----------|----------------------------------------|\n",
    "| 0x10            | src_rows | number of rows of original picture    |\n",
    "| 0x18            | src_cols | number of columns of original picture |\n",
    "| 0x20            | dst_rows | number of rows of resized picture     |\n",
    "| 0x28            | dst_cols | number of columns of resized picture  |\n",
    "\n",
    "PYNQ populates these names from the IP directly into the register map `resizer.register_map`"
   ]
  },
  {
   "cell_type": "code",
   "execution_count": null,
   "metadata": {},
   "outputs": [],
   "source": [
    "resizer.register_map.src_rows = old_height\n",
    "resizer.register_map.src_cols = old_width\n",
    "resizer.register_map.dst_rows = new_height\n",
    "resizer.register_map.dst_cols = new_width"
   ]
  },
  {
   "cell_type": "code",
   "execution_count": null,
   "metadata": {},
   "outputs": [],
   "source": [
    "resizer.write(0x00,0x81) # start\n",
    "\n",
    "dma.sendchannel.transfer(in_buffer)\n",
    "dma.recvchannel.transfer(out_buffer)    \n",
    "\n",
    "dma.sendchannel.wait()\n",
    "dma.recvchannel.wait()"
   ]
  },
  {
   "cell_type": "markdown",
   "metadata": {},
   "source": [
    "Now we can perform the resizing operation."
   ]
  },
  {
   "cell_type": "code",
   "execution_count": null,
   "metadata": {},
   "outputs": [],
   "source": [
    "run_kernel()\n",
    "resized_image = Image.fromarray(out_buffer)"
   ]
  },
  {
   "cell_type": "markdown",
   "metadata": {},
   "source": [
    "## Display resized image"
   ]
  },
  {
   "cell_type": "code",
   "execution_count": null,
   "metadata": {},
   "outputs": [],
   "source": [
    "print(\"Image size: {}x{} pixels.\".format(new_width, new_height))\n",
    "plt.figure(figsize=(12, 10));\n",
    "_ = plt.imshow(resized_image)"
   ]
  },
  {
   "cell_type": "markdown",
   "metadata": {},
   "source": [
    "We can time the resize in PL operation."
   ]
  },
  {
   "cell_type": "code",
   "execution_count": null,
   "metadata": {},
   "outputs": [],
   "source": [
    "%%timeit\n",
    "run_kernel()\n",
    "resized_image = Image.fromarray(out_buffer)"
   ]
  },
  {
   "cell_type": "markdown",
   "metadata": {},
   "source": [
    "Finally we need to free all the contiguous memory buffers."
   ]
  },
  {
   "cell_type": "code",
   "execution_count": null,
   "metadata": {},
   "outputs": [],
   "source": [
    "del in_buffer\n",
    "del out_buffer"
   ]
  },
  {
   "cell_type": "markdown",
   "metadata": {},
   "source": [
    "[Contents](#Contents)\n",
    "\n",
    "# References\n",
    "\n",
    "https://pillow.readthedocs.io/en/3.1.x/index.html   \n",
    "https://github.com/Xilinx/PYNQ/blob/master/docs/source/python_environment.ipynb   \n",
    "https://github.com/Xilinx/PYNQ/blob/master/docs/source/jupyter_notebooks.ipynb   \n",
    "https://github.com/Xilinx/PYNQ/blob/master/docs/source/jupyter_notebooks_advanced_features.ipynb   "
   ]
  }
 ],
 "metadata": {
  "kernelspec": {
   "display_name": "Python 3 (ipykernel)",
   "language": "python",
   "name": "python3"
  },
  "language_info": {
   "codemirror_mode": {
    "name": "ipython",
    "version": 3
   },
   "file_extension": ".py",
   "mimetype": "text/x-python",
   "name": "python",
   "nbconvert_exporter": "python",
   "pygments_lexer": "ipython3",
   "version": "3.12.0"
  }
 },
 "nbformat": 4,
 "nbformat_minor": 4
}
