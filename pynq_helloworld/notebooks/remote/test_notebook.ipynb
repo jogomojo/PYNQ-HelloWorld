{
 "cells": [
  {
   "cell_type": "code",
   "execution_count": null,
   "id": "8257b722-8759-4689-92a7-84296b994075",
   "metadata": {},
   "outputs": [],
   "source": [
    "import os\n",
    "os.environ['PYNQ_REMOTE_IP'] = \"192.168.0.114\""
   ]
  },
  {
   "cell_type": "code",
   "execution_count": null,
   "id": "58f57671-e6f5-4c1b-8aed-622c10781ab7",
   "metadata": {},
   "outputs": [],
   "source": [
    "from PIL import Image\n",
    "import numpy as np\n",
    "import matplotlib.pyplot as plt\n",
    "%matplotlib inline\n",
    "from pynq import allocate, Overlay"
   ]
  },
  {
   "cell_type": "code",
   "execution_count": null,
   "id": "5ae5ea96-ba05-4b79-a718-977ab3003a25",
   "metadata": {},
   "outputs": [],
   "source": [
    "resize_design = Overlay(\"resizer.xsa\")"
   ]
  },
  {
   "cell_type": "code",
   "execution_count": null,
   "id": "84afbc78-c95f-4f8f-b46b-a227e349b182",
   "metadata": {},
   "outputs": [],
   "source": [
    "dma = resize_design.axi_dma_0\n",
    "resizer = resize_design.resize_accel_0"
   ]
  },
  {
   "cell_type": "code",
   "execution_count": null,
   "id": "bb7cf161-3b76-4dab-83ea-38e28eb9f26f",
   "metadata": {},
   "outputs": [],
   "source": [
    "image_path = \"images/sahara.jpg\"\n",
    "original_image = Image.open(image_path)"
   ]
  },
  {
   "cell_type": "code",
   "execution_count": null,
   "id": "247b8e5f-3de1-4b1e-8998-3056daae6010",
   "metadata": {},
   "outputs": [],
   "source": [
    "canvas = plt.gcf()\n",
    "size = canvas.get_size_inches()\n",
    "canvas.set_size_inches(size*2)\n",
    "\n",
    "old_width, old_height = original_image.size\n",
    "print(\"Image size: {}x{} pixels.\".format(old_width, old_height))\n",
    "plt.figure(figsize=(12, 10));\n",
    "_ = plt.imshow(original_image)"
   ]
  },
  {
   "cell_type": "code",
   "execution_count": null,
   "id": "41375c34-2fbc-4266-ab77-9a6ff20ce789",
   "metadata": {},
   "outputs": [],
   "source": [
    "resize_factor = 2\n",
    "new_width = int(old_width/resize_factor)\n",
    "new_height = int(old_height/resize_factor)"
   ]
  },
  {
   "cell_type": "code",
   "execution_count": null,
   "id": "9b2210a4-137e-4d44-93cb-bd0e00d51ace",
   "metadata": {},
   "outputs": [],
   "source": [
    "in_buffer = allocate(shape=(old_height, old_width, 3), \n",
    "                           dtype=np.uint8)\n",
    "out_buffer = allocate(shape=(new_height, new_width, 3), \n",
    "                            dtype=np.uint8)"
   ]
  },
  {
   "cell_type": "code",
   "execution_count": null,
   "id": "6719ebe5-1fb8-47f7-85f0-10f4c4b53753",
   "metadata": {},
   "outputs": [],
   "source": [
    "in_buffer[:] = np.array(original_image)\n",
    "print(in_buffer[-10:])"
   ]
  },
  {
   "cell_type": "code",
   "execution_count": null,
   "id": "1a0f03ae-a369-468b-8c9c-de73aca1d9f8",
   "metadata": {},
   "outputs": [],
   "source": [
    "dma.sendchannel.transfer(in_buffer)\n",
    "dma.recvchannel.transfer(out_buffer)"
   ]
  },
  {
   "cell_type": "code",
   "execution_count": null,
   "id": "a24be586-5886-42e6-a080-eb5ed100d72d",
   "metadata": {},
   "outputs": [],
   "source": [
    "resizer.write(0x00,0x81) # start"
   ]
  },
  {
   "cell_type": "code",
   "execution_count": null,
   "id": "d6a99ab3-dba1-4e2d-91f2-f697aff8de55",
   "metadata": {},
   "outputs": [],
   "source": [
    "dma.sendchannel.wait()\n",
    "dma.recvchannel.wait()"
   ]
  },
  {
   "cell_type": "code",
   "execution_count": null,
   "id": "5a67662b-4892-4250-b8ef-47801a3475ea",
   "metadata": {},
   "outputs": [],
   "source": [
    "resized_image = Image.fromarray(out_buffer)"
   ]
  },
  {
   "cell_type": "code",
   "execution_count": null,
   "id": "0dd58173-d195-42af-ad9e-b6d1e17059a3",
   "metadata": {},
   "outputs": [],
   "source": [
    "del in_buffer\n",
    "del out_buffer"
   ]
  }
 ],
 "metadata": {
  "kernelspec": {
   "display_name": "Python 3 (ipykernel)",
   "language": "python",
   "name": "python3"
  },
  "language_info": {
   "codemirror_mode": {
    "name": "ipython",
    "version": 3
   },
   "file_extension": ".py",
   "mimetype": "text/x-python",
   "name": "python",
   "nbconvert_exporter": "python",
   "pygments_lexer": "ipython3",
   "version": "3.12.0"
  }
 },
 "nbformat": 4,
 "nbformat_minor": 5
}
